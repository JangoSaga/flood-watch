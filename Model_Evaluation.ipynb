{
  "cells": [
    {
      "cell_type": "markdown",
      "metadata": {},
      "source": [
        "# FloodML Model Evaluation Notebook\n",
        "\n",
        "This notebook demonstrates the Machine Learning model used in FloodML for flood classification and reports key performance metrics.\n",
        "\n",
        "- Dataset: `FloodML-master/training/final_data.csv`\n",
        "- Target label: `class` (0 = Safe, 1 = Unsafe)\n",
        "- Model: RandomForestClassifier (n_estimators=50, criterion='entropy', random_state=0)\n"
      ]
    },
    {
      "cell_type": "code",
      "execution_count": 3,
      "metadata": {},
      "outputs": [
        {
          "name": "stdout",
          "output_type": "stream",
          "text": [
            "Dataset shape: (5040, 7)\n"
          ]
        },
        {
          "data": {
            "text/html": [
              "<div>\n",
              "<style scoped>\n",
              "    .dataframe tbody tr th:only-of-type {\n",
              "        vertical-align: middle;\n",
              "    }\n",
              "\n",
              "    .dataframe tbody tr th {\n",
              "        vertical-align: top;\n",
              "    }\n",
              "\n",
              "    .dataframe thead th {\n",
              "        text-align: right;\n",
              "    }\n",
              "</style>\n",
              "<table border=\"1\" class=\"dataframe\">\n",
              "  <thead>\n",
              "    <tr style=\"text-align: right;\">\n",
              "      <th></th>\n",
              "      <th>temp</th>\n",
              "      <th>max_temp</th>\n",
              "      <th>wind_speed</th>\n",
              "      <th>cloudcover</th>\n",
              "      <th>precip</th>\n",
              "      <th>humidity</th>\n",
              "      <th>class</th>\n",
              "    </tr>\n",
              "  </thead>\n",
              "  <tbody>\n",
              "    <tr>\n",
              "      <th>0</th>\n",
              "      <td>29.90</td>\n",
              "      <td>37.00</td>\n",
              "      <td>23.00</td>\n",
              "      <td>58.60</td>\n",
              "      <td>146.00</td>\n",
              "      <td>83.86</td>\n",
              "      <td>1</td>\n",
              "    </tr>\n",
              "    <tr>\n",
              "      <th>1</th>\n",
              "      <td>93.04</td>\n",
              "      <td>82.41</td>\n",
              "      <td>63.44</td>\n",
              "      <td>102.42</td>\n",
              "      <td>192.07</td>\n",
              "      <td>129.30</td>\n",
              "      <td>1</td>\n",
              "    </tr>\n",
              "    <tr>\n",
              "      <th>2</th>\n",
              "      <td>87.13</td>\n",
              "      <td>98.82</td>\n",
              "      <td>72.29</td>\n",
              "      <td>122.12</td>\n",
              "      <td>191.80</td>\n",
              "      <td>142.25</td>\n",
              "      <td>1</td>\n",
              "    </tr>\n",
              "    <tr>\n",
              "      <th>3</th>\n",
              "      <td>92.12</td>\n",
              "      <td>72.39</td>\n",
              "      <td>73.84</td>\n",
              "      <td>96.50</td>\n",
              "      <td>196.53</td>\n",
              "      <td>150.42</td>\n",
              "      <td>1</td>\n",
              "    </tr>\n",
              "    <tr>\n",
              "      <th>4</th>\n",
              "      <td>92.64</td>\n",
              "      <td>76.03</td>\n",
              "      <td>67.13</td>\n",
              "      <td>92.61</td>\n",
              "      <td>191.76</td>\n",
              "      <td>126.61</td>\n",
              "      <td>1</td>\n",
              "    </tr>\n",
              "  </tbody>\n",
              "</table>\n",
              "</div>"
            ],
            "text/plain": [
              "    temp  max_temp  wind_speed  cloudcover  precip  humidity  class\n",
              "0  29.90     37.00       23.00       58.60  146.00     83.86      1\n",
              "1  93.04     82.41       63.44      102.42  192.07    129.30      1\n",
              "2  87.13     98.82       72.29      122.12  191.80    142.25      1\n",
              "3  92.12     72.39       73.84       96.50  196.53    150.42      1\n",
              "4  92.64     76.03       67.13       92.61  191.76    126.61      1"
            ]
          },
          "execution_count": 3,
          "metadata": {},
          "output_type": "execute_result"
        }
      ],
      "source": [
        "# Install dependencies if running in a fresh environment (optional)\n",
        "# %pip install -q scikit-learn pandas numpy matplotlib seaborn\n",
        "\n",
        "import os\n",
        "import pandas as pd\n",
        "import numpy as np\n",
        "import matplotlib.pyplot as plt\n",
        "import seaborn as sns\n",
        "\n",
        "from sklearn.model_selection import train_test_split\n",
        "from sklearn.metrics import (\n",
        "    accuracy_score,\n",
        "    precision_score,\n",
        "    recall_score,\n",
        "    f1_score,\n",
        "    confusion_matrix,\n",
        "    classification_report,\n",
        "    roc_auc_score,\n",
        "    roc_curve\n",
        ")\n",
        "from sklearn.ensemble import RandomForestClassifier\n",
        "import pickle\n",
        "\n",
        "# Paths\n",
        "DATA_PATH = os.path.join('FloodML-master', 'training', 'final_data.csv')\n",
        "MODEL_PATH = os.path.join('FloodML-master', 'model.pickle')\n",
        "\n",
        "# Load dataset\n",
        "raw = pd.read_csv(DATA_PATH)\n",
        "print(f\"Dataset shape: {raw.shape}\")\n",
        "raw.head()\n"
      ]
    },
    {
      "cell_type": "code",
      "execution_count": 4,
      "metadata": {},
      "outputs": [
        {
          "name": "stdout",
          "output_type": "stream",
          "text": [
            "(4032, 6) (1008, 6)\n"
          ]
        }
      ],
      "source": [
        "# Split features and target\n",
        "assert 'class' in raw.columns, \"Expected 'class' column as target label\"\n",
        "\n",
        "y = raw['class']\n",
        "X = raw.drop(columns=['class'])\n",
        "\n",
        "# Train/test split\n",
        "X_train, X_test, y_train, y_test = train_test_split(\n",
        "    X, y, test_size=0.2, random_state=42, stratify=y\n",
        ")\n",
        "\n",
        "print(X_train.shape, X_test.shape)\n"
      ]
    },
    {
      "cell_type": "code",
      "execution_count": 6,
      "metadata": {},
      "outputs": [
        {
          "name": "stdout",
          "output_type": "stream",
          "text": [
            "Loaded existing model from: FloodML-master\\model.pickle\n"
          ]
        },
        {
          "data": {
            "text/html": [
              "<div>\n",
              "<style scoped>\n",
              "    .dataframe tbody tr th:only-of-type {\n",
              "        vertical-align: middle;\n",
              "    }\n",
              "\n",
              "    .dataframe tbody tr th {\n",
              "        vertical-align: top;\n",
              "    }\n",
              "\n",
              "    .dataframe thead th {\n",
              "        text-align: right;\n",
              "    }\n",
              "</style>\n",
              "<table border=\"1\" class=\"dataframe\">\n",
              "  <thead>\n",
              "    <tr style=\"text-align: right;\">\n",
              "      <th></th>\n",
              "      <th>Score</th>\n",
              "    </tr>\n",
              "  </thead>\n",
              "  <tbody>\n",
              "    <tr>\n",
              "      <th>Accuracy</th>\n",
              "      <td>0.995040</td>\n",
              "    </tr>\n",
              "    <tr>\n",
              "      <th>Precision (macro)</th>\n",
              "      <td>0.993947</td>\n",
              "    </tr>\n",
              "    <tr>\n",
              "      <th>Recall (macro)</th>\n",
              "      <td>0.995833</td>\n",
              "    </tr>\n",
              "    <tr>\n",
              "      <th>F1-score (macro)</th>\n",
              "      <td>0.994863</td>\n",
              "    </tr>\n",
              "  </tbody>\n",
              "</table>\n",
              "</div>"
            ],
            "text/plain": [
              "                      Score\n",
              "Accuracy           0.995040\n",
              "Precision (macro)  0.993947\n",
              "Recall (macro)     0.995833\n",
              "F1-score (macro)   0.994863"
            ]
          },
          "execution_count": 6,
          "metadata": {},
          "output_type": "execute_result"
        }
      ],
      "source": [
        "# Load the saved model if available; otherwise train a fresh one for evaluation\n",
        "if os.path.exists(MODEL_PATH):\n",
        "    with open(MODEL_PATH, 'rb') as f:\n",
        "        model = pickle.load(f)\n",
        "    print(\"Loaded existing model from:\", MODEL_PATH)\n",
        "else:\n",
        "    print(\"Model not found. Training a new RandomForestClassifier for evaluation...\")\n",
        "    model = RandomForestClassifier(n_estimators=50, criterion='entropy', random_state=0)\n",
        "    model.fit(X_train, y_train)\n",
        "\n",
        "# Evaluate on test set\n",
        "y_pred = model.predict(X_test)\n",
        "\n",
        "metrics = {\n",
        "    'Accuracy': accuracy_score(y_test, y_pred),\n",
        "    'Precision (macro)': precision_score(y_test, y_pred, average='macro', zero_division=0),\n",
        "    'Recall (macro)': recall_score(y_test, y_pred, average='macro', zero_division=0),\n",
        "    'F1-score (macro)': f1_score(y_test, y_pred, average='macro', zero_division=0),\n",
        "}\n",
        "\n",
        "pd.DataFrame(metrics, index=['Score']).T\n"
      ]
    },
    {
      "cell_type": "code",
      "execution_count": 7,
      "metadata": {},
      "outputs": [
        {
          "name": "stdout",
          "output_type": "stream",
          "text": [
            "              precision    recall  f1-score   support\n",
            "\n",
            "           0     0.9879    1.0000    0.9939       408\n",
            "           1     1.0000    0.9917    0.9958       600\n",
            "\n",
            "    accuracy                         0.9950      1008\n",
            "   macro avg     0.9939    0.9958    0.9949      1008\n",
            "weighted avg     0.9951    0.9950    0.9950      1008\n",
            "\n"
          ]
        },
        {
          "data": {
            "image/png": "[encoded data removed]",
            "text/plain": [
              "<Figure size 450x400 with 1 Axes>"
            ]
          },
          "metadata": {},
          "output_type": "display_data"
        }
      ],
      "source": [
        "# Detailed classification report and confusion matrix\n",
        "print(classification_report(y_test, y_pred, digits=4))\n",
        "\n",
        "cm = confusion_matrix(y_test, y_pred)\n",
        "plt.figure(figsize=(4.5, 4))\n",
        "sns.heatmap(cm, annot=True, fmt='d', cmap='Blues', cbar=False,\n",
        "            xticklabels=['Pred 0 (Safe)', 'Pred 1 (Unsafe)'],\n",
        "            yticklabels=['True 0 (Safe)', 'True 1 (Unsafe)'])\n",
        "plt.title('Confusion Matrix')\n",
        "plt.xlabel('Predicted')\n",
        "plt.ylabel('Actual')\n",
        "plt.tight_layout()\n",
        "plt.show()\n"
      ]
    },
    {
      "cell_type": "code",
      "execution_count": 8,
      "metadata": {},
      "outputs": [
        {
          "name": "stdout",
          "output_type": "stream",
          "text": [
            "ROC-AUC: 0.9987\n"
          ]
        },
        {
          "data": {
            "image/png": "[encoded data removed]",
            "text/plain": [
              "<Figure size 500x400 with 1 Axes>"
            ]
          },
          "metadata": {},
          "output_type": "display_data"
        }
      ],
      "source": [
        "# ROC-AUC (if both classes present)\n",
        "try:\n",
        "    # For binary models, decision_function may not exist; use predict_proba\n",
        "    if hasattr(model, \"predict_proba\"):\n",
        "        y_scores = model.predict_proba(X_test)[:, 1]\n",
        "        auc = roc_auc_score(y_test, y_scores)\n",
        "        fpr, tpr, _ = roc_curve(y_test, y_scores)\n",
        "\n",
        "        print(f\"ROC-AUC: {auc:.4f}\")\n",
        "        plt.figure(figsize=(5, 4))\n",
        "        plt.plot(fpr, tpr, label=f\"ROC curve (AUC = {auc:.3f})\")\n",
        "        plt.plot([0, 1], [0, 1], linestyle='--', color='gray')\n",
        "        plt.xlabel('False Positive Rate')\n",
        "        plt.ylabel('True Positive Rate')\n",
        "        plt.title('ROC Curve')\n",
        "        plt.legend(loc='lower right')\n",
        "        plt.tight_layout()\n",
        "        plt.show()\n",
        "    else:\n",
        "        print(\"Model does not support predict_proba; skipping ROC-AUC plot.\")\n",
        "except Exception as e:\n",
        "    print(f\"Skipping ROC-AUC: {e}\")\n"
      ]
    },
    {
      "cell_type": "code",
      "execution_count": 9,
      "metadata": {},
      "outputs": [
        {
          "data": {
            "image/png": "[encoded data removed]",
            "text/plain": [
              "<Figure size 600x400 with 1 Axes>"
            ]
          },
          "metadata": {},
          "output_type": "display_data"
        }
      ],
      "source": [
        "# Feature importance (RandomForest)\n",
        "if hasattr(model, 'feature_importances_'):\n",
        "    importances = pd.Series(model.feature_importances_, index=X.columns)\n",
        "    topk = importances.sort_values(ascending=False).head(15)\n",
        "    plt.figure(figsize=(6, 4))\n",
        "    sns.barplot(x=topk.values, y=topk.index, orient='h', color='#2563eb')\n",
        "    plt.title('Top Feature Importances')\n",
        "    plt.xlabel('Importance')\n",
        "    plt.ylabel('Feature')\n",
        "    plt.tight_layout()\n",
        "    plt.show()\n",
        "else:\n",
        "    print('Model does not expose feature_importances_.')\n"
      ]
    }
  ],
  "metadata": {
    "kernelspec": {
      "display_name": "venv",
      "language": "python",
      "name": "python3"
    },
    "language_info": {
      "codemirror_mode": {
        "name": "ipython",
        "version": 3
      },
      "file_extension": ".py",
      "mimetype": "text/x-python",
      "name": "python",
      "nbconvert_exporter": "python",
      "pygments_lexer": "ipython3",
      "version": "3.13.6"
    }
  },
  "nbformat": 4,
  "nbformat_minor": 2
}
